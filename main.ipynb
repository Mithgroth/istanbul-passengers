{
 "cells": [
  {
   "cell_type": "markdown",
   "metadata": {},
   "source": [
    "## Predicting Istanbul public transport passengers"
   ]
  },
  {
   "cell_type": "markdown",
   "metadata": {},
   "source": [
    "### Goals\n",
    "To predict passenger counts for the future."
   ]
  },
  {
   "cell_type": "markdown",
   "metadata": {},
   "source": [
    "### Fetch the data"
   ]
  },
  {
   "cell_type": "markdown",
   "metadata": {},
   "source": [
    "Let's start with getting the data.\n",
    "We'll get our data from https://data.ibb.gov.tr/dataset/hourly-public-transport-data-set, which is a public data set that contains the following information:\n",
    "- **transition_date**: It is the field that contains the transition date information. The data format is YYYY-MM-DD.\n",
    "- **transition_hour**: It is the field that contains the transit time information. The data format is HH.\n",
    "- **transport_type_id**: It contains the line information on which the transportation is provided, 1: OTOYOL (road), 2: RAYLI (railroad), 3: DENİZ (by sea).\n",
    "- **road_type**: Label of transport_type_id.\n",
    "- **transfer_type**: It is the field that shows the type of transit passengers using Public Transportation. Transfer: Travel by one or more public transport, Normal: Journey without transfer.\n",
    "- **number_of_passage**: Includes the number of trips per hour, transfer type and transportation type.\n",
    "- **number_of_passenger**: It includes the number of individual passengers traveling in the given hour, depending on the type of transfer and the type of transportation.\n",
    "\n",
    "After February 2024, following columns were added:\n",
    "- **product_kind**: Type of Istanbulkart used for payment, can be full, discounted, free etc.\n",
    "- **transaction_type_desc**: Label of product_kind.\n",
    "- **town**: District.\n",
    "- **line_name**: Name of the public transportation line."
   ]
  },
  {
   "cell_type": "code",
   "execution_count": 2,
   "metadata": {},
   "outputs": [
    {
     "name": "stdout",
     "output_type": "stream",
     "text": [
      "Total files available: 54\n",
      "Files downloaded: 0\n",
      "Files skipped: 54\n"
     ]
    }
   ],
   "source": [
    "import download_data\n",
    "\n",
    "url = \"https://data.ibb.gov.tr/dataset/hourly-public-transport-data-set\"\n",
    "\n",
    "# Call the main function to download CSV files\n",
    "total_files, downloaded_files, skipped_files = download_data.fetch(url)\n",
    "\n",
    "print(f\"Total files available: {total_files}\")\n",
    "print(f\"Files downloaded: {downloaded_files}\")\n",
    "print(f\"Files skipped: {skipped_files}\")"
   ]
  },
  {
   "cell_type": "markdown",
   "metadata": {},
   "source": [
    "### Parse the data"
   ]
  },
  {
   "cell_type": "markdown",
   "metadata": {},
   "source": [
    "Import all CSVs into a `pandas.DataFrame` for inspection."
   ]
  },
  {
   "cell_type": "code",
   "execution_count": 3,
   "metadata": {},
   "outputs": [
    {
     "data": {
      "text/plain": [
       "(66299594, 12)"
      ]
     },
     "execution_count": 3,
     "metadata": {},
     "output_type": "execute_result"
    }
   ],
   "source": [
    "import pandas as pd\n",
    "import os\n",
    "\n",
    "path = 'data'\n",
    "csv_files = [f for f in os.listdir(path) if f.endswith('.csv')]\n",
    "\n",
    "data_frames = [pd.read_csv(os.path.join(path, file)) for file in csv_files]\n",
    "df = pd.concat(data_frames, ignore_index=True)\n",
    "df.shape"
   ]
  },
  {
   "cell_type": "markdown",
   "metadata": {},
   "source": [
    "Let's check for `isna()` to see if there are columns we cannot use."
   ]
  },
  {
   "cell_type": "code",
   "execution_count": 4,
   "metadata": {},
   "outputs": [
    {
     "data": {
      "text/plain": [
       "transition_date                 0\n",
       "transition_hour                 0\n",
       "transport_type_id               0\n",
       "road_type                       0\n",
       "line                            0\n",
       "transfer_type                   0\n",
       "number_of_passage               0\n",
       "number_of_passenger             0\n",
       "product_kind             54398908\n",
       "transaction_type_desc    54145758\n",
       "town                     54202254\n",
       "line_name                54158671\n",
       "dtype: int64"
      ]
     },
     "execution_count": 4,
     "metadata": {},
     "output_type": "execute_result"
    }
   ],
   "source": [
    "df.isna().sum()"
   ]
  },
  {
   "cell_type": "markdown",
   "metadata": {},
   "source": [
    "New columns (`product_kind`, `transaction_type_desc`, `town`, `line_name`) seems to be missing for most of the rows, it should just be better to exclude them altogether."
   ]
  },
  {
   "cell_type": "code",
   "execution_count": 5,
   "metadata": {},
   "outputs": [
    {
     "data": {
      "text/plain": [
       "(66299594, 8)"
      ]
     },
     "execution_count": 5,
     "metadata": {},
     "output_type": "execute_result"
    }
   ],
   "source": [
    "df.drop([\"product_kind\", \"transaction_type_desc\", \"town\", \"line_name\"], axis=1, inplace=True)\n",
    "df.shape"
   ]
  },
  {
   "cell_type": "code",
   "execution_count": 6,
   "metadata": {},
   "outputs": [],
   "source": [
    "df['transition_datetime'] = pd.to_datetime(df['transition_date'] + ' ' + df['transition_hour'].astype(str) + ':00')\n",
    "df.drop(columns=['transition_date', 'transition_hour'], inplace=True)\n",
    "\n",
    "# Let's keep the same order\n",
    "column_order = ['transition_datetime', 'transport_type_id', 'road_type', 'line', 'transfer_type', 'number_of_passage', 'number_of_passenger']\n",
    "df = df[column_order]"
   ]
  },
  {
   "cell_type": "markdown",
   "metadata": {},
   "source": [
    "Let's group by the rows to avoid spreading the data like:\n",
    ">66299591\t1\tOTOYOL\tSULTANBEYLI-UMRANIYE\tNormal\t4\t3\t2024-06-30 09:00:00\n",
    ">\n",
    ">66299592\t1\tOTOYOL\tSULTANBEYLI-UMRANIYE\tNormal\t1\t1\t2024-06-30 09:00:00\n",
    ">\n",
    ">66299593\t1\tOTOYOL\tSULTANBEYLI-UMRANIYE\tNormal\t1\t1\t2024-06-30 09:00:00"
   ]
  },
  {
   "cell_type": "code",
   "execution_count": 7,
   "metadata": {},
   "outputs": [],
   "source": [
    "df = df.groupby(['transition_datetime', 'transport_type_id', 'road_type', 'line', 'transfer_type']).agg({\n",
    "    'number_of_passage': 'sum',\n",
    "    'number_of_passenger': 'sum'\n",
    "}).reset_index()"
   ]
  },
  {
   "cell_type": "markdown",
   "metadata": {},
   "source": [
    "Let's also drop `road_type` as it doesn't add any value to the data."
   ]
  },
  {
   "cell_type": "code",
   "execution_count": 8,
   "metadata": {},
   "outputs": [
    {
     "data": {
      "text/html": [
       "<div>\n",
       "<style scoped>\n",
       "    .dataframe tbody tr th:only-of-type {\n",
       "        vertical-align: middle;\n",
       "    }\n",
       "\n",
       "    .dataframe tbody tr th {\n",
       "        vertical-align: top;\n",
       "    }\n",
       "\n",
       "    .dataframe thead th {\n",
       "        text-align: right;\n",
       "    }\n",
       "</style>\n",
       "<table border=\"1\" class=\"dataframe\">\n",
       "  <thead>\n",
       "    <tr style=\"text-align: right;\">\n",
       "      <th></th>\n",
       "      <th>transition_datetime</th>\n",
       "      <th>transport_type_id</th>\n",
       "      <th>line</th>\n",
       "      <th>transfer_type</th>\n",
       "      <th>number_of_passage</th>\n",
       "      <th>number_of_passenger</th>\n",
       "    </tr>\n",
       "  </thead>\n",
       "  <tbody>\n",
       "    <tr>\n",
       "      <th>0</th>\n",
       "      <td>2020-01-01 00:00:00</td>\n",
       "      <td>1</td>\n",
       "      <td>A.YESEVI MAH-UMRANIYE</td>\n",
       "      <td>Aktarma</td>\n",
       "      <td>3</td>\n",
       "      <td>3</td>\n",
       "    </tr>\n",
       "    <tr>\n",
       "      <th>1</th>\n",
       "      <td>2020-01-01 00:00:00</td>\n",
       "      <td>1</td>\n",
       "      <td>A.YESEVI MAH-UMRANIYE</td>\n",
       "      <td>Normal</td>\n",
       "      <td>19</td>\n",
       "      <td>19</td>\n",
       "    </tr>\n",
       "    <tr>\n",
       "      <th>2</th>\n",
       "      <td>2020-01-01 00:00:00</td>\n",
       "      <td>1</td>\n",
       "      <td>ADEM YAVUZ MAH-ZIVERBEY-KADIKOY</td>\n",
       "      <td>Aktarma</td>\n",
       "      <td>5</td>\n",
       "      <td>5</td>\n",
       "    </tr>\n",
       "    <tr>\n",
       "      <th>3</th>\n",
       "      <td>2020-01-01 00:00:00</td>\n",
       "      <td>1</td>\n",
       "      <td>ADEM YAVUZ MAH-ZIVERBEY-KADIKOY</td>\n",
       "      <td>Normal</td>\n",
       "      <td>97</td>\n",
       "      <td>88</td>\n",
       "    </tr>\n",
       "    <tr>\n",
       "      <th>4</th>\n",
       "      <td>2020-01-01 00:00:00</td>\n",
       "      <td>1</td>\n",
       "      <td>ALEMDAR-HALICIOGLU</td>\n",
       "      <td>Aktarma</td>\n",
       "      <td>6</td>\n",
       "      <td>6</td>\n",
       "    </tr>\n",
       "    <tr>\n",
       "      <th>...</th>\n",
       "      <td>...</td>\n",
       "      <td>...</td>\n",
       "      <td>...</td>\n",
       "      <td>...</td>\n",
       "      <td>...</td>\n",
       "      <td>...</td>\n",
       "    </tr>\n",
       "    <tr>\n",
       "      <th>32037073</th>\n",
       "      <td>2024-06-30 06:00:00</td>\n",
       "      <td>1</td>\n",
       "      <td>SULTANBEYLI-UMRANIYE</td>\n",
       "      <td>Normal</td>\n",
       "      <td>55</td>\n",
       "      <td>52</td>\n",
       "    </tr>\n",
       "    <tr>\n",
       "      <th>32037074</th>\n",
       "      <td>2024-06-30 07:00:00</td>\n",
       "      <td>1</td>\n",
       "      <td>SULTANBEYLI-UMRANIYE</td>\n",
       "      <td>Aktarma</td>\n",
       "      <td>1</td>\n",
       "      <td>1</td>\n",
       "    </tr>\n",
       "    <tr>\n",
       "      <th>32037075</th>\n",
       "      <td>2024-06-30 07:00:00</td>\n",
       "      <td>1</td>\n",
       "      <td>SULTANBEYLI-UMRANIYE</td>\n",
       "      <td>Normal</td>\n",
       "      <td>35</td>\n",
       "      <td>34</td>\n",
       "    </tr>\n",
       "    <tr>\n",
       "      <th>32037076</th>\n",
       "      <td>2024-06-30 08:00:00</td>\n",
       "      <td>1</td>\n",
       "      <td>SULTANBEYLI-UMRANIYE</td>\n",
       "      <td>Normal</td>\n",
       "      <td>76</td>\n",
       "      <td>74</td>\n",
       "    </tr>\n",
       "    <tr>\n",
       "      <th>32037077</th>\n",
       "      <td>2024-06-30 09:00:00</td>\n",
       "      <td>1</td>\n",
       "      <td>SULTANBEYLI-UMRANIYE</td>\n",
       "      <td>Normal</td>\n",
       "      <td>31</td>\n",
       "      <td>30</td>\n",
       "    </tr>\n",
       "  </tbody>\n",
       "</table>\n",
       "<p>32037078 rows × 6 columns</p>\n",
       "</div>"
      ],
      "text/plain": [
       "         transition_datetime  transport_type_id  \\\n",
       "0        2020-01-01 00:00:00                  1   \n",
       "1        2020-01-01 00:00:00                  1   \n",
       "2        2020-01-01 00:00:00                  1   \n",
       "3        2020-01-01 00:00:00                  1   \n",
       "4        2020-01-01 00:00:00                  1   \n",
       "...                      ...                ...   \n",
       "32037073 2024-06-30 06:00:00                  1   \n",
       "32037074 2024-06-30 07:00:00                  1   \n",
       "32037075 2024-06-30 07:00:00                  1   \n",
       "32037076 2024-06-30 08:00:00                  1   \n",
       "32037077 2024-06-30 09:00:00                  1   \n",
       "\n",
       "                                     line transfer_type  number_of_passage  \\\n",
       "0                   A.YESEVI MAH-UMRANIYE       Aktarma                  3   \n",
       "1                   A.YESEVI MAH-UMRANIYE        Normal                 19   \n",
       "2         ADEM YAVUZ MAH-ZIVERBEY-KADIKOY       Aktarma                  5   \n",
       "3         ADEM YAVUZ MAH-ZIVERBEY-KADIKOY        Normal                 97   \n",
       "4                      ALEMDAR-HALICIOGLU       Aktarma                  6   \n",
       "...                                   ...           ...                ...   \n",
       "32037073             SULTANBEYLI-UMRANIYE        Normal                 55   \n",
       "32037074             SULTANBEYLI-UMRANIYE       Aktarma                  1   \n",
       "32037075             SULTANBEYLI-UMRANIYE        Normal                 35   \n",
       "32037076             SULTANBEYLI-UMRANIYE        Normal                 76   \n",
       "32037077             SULTANBEYLI-UMRANIYE        Normal                 31   \n",
       "\n",
       "          number_of_passenger  \n",
       "0                           3  \n",
       "1                          19  \n",
       "2                           5  \n",
       "3                          88  \n",
       "4                           6  \n",
       "...                       ...  \n",
       "32037073                   52  \n",
       "32037074                    1  \n",
       "32037075                   34  \n",
       "32037076                   74  \n",
       "32037077                   30  \n",
       "\n",
       "[32037078 rows x 6 columns]"
      ]
     },
     "execution_count": 8,
     "metadata": {},
     "output_type": "execute_result"
    }
   ],
   "source": [
    "df.drop(\"road_type\", axis=1, inplace=True)\n",
    "df"
   ]
  },
  {
   "cell_type": "code",
   "execution_count": 18,
   "metadata": {},
   "outputs": [
    {
     "data": {
      "image/png": "[encoded data removed]",
      "text/plain": [
       "<Figure size 1000x600 with 1 Axes>"
      ]
     },
     "metadata": {},
     "output_type": "display_data"
    }
   ],
   "source": [
    "%matplotlib inline\n",
    "import matplotlib.pylab as plt\n",
    "import seaborn as sns\n",
    "sns.set_theme(style=\"darkgrid\")\n",
    "\n",
    "# Convert 'transition_datetime' to datetime\n",
    "df['transition_datetime'] = pd.to_datetime(df['transition_datetime'])\n",
    "\n",
    "# Extract the year and month from the datetime\n",
    "df['year_month'] = df['transition_datetime'].dt.to_period('M')\n",
    "\n",
    "# Group by the year_month and calculate the average number of passengers\n",
    "monthly_avg = df.groupby('year_month')['number_of_passenger'].sum().reset_index()\n",
    "\n",
    "# Convert year_month back to datetime for plotting\n",
    "monthly_avg['year_month'] = monthly_avg['year_month'].dt.to_timestamp()\n",
    "\n",
    "# Normalize the y-axis values to thousands (K)\n",
    "monthly_avg['number_of_passenger'] = monthly_avg['number_of_passenger'] / 1_000_000\n",
    "\n",
    "# Plot the data\n",
    "plt.figure(figsize=(10, 6))\n",
    "plt.plot(monthly_avg['year_month'], monthly_avg['number_of_passenger'], marker='o')\n",
    "\n",
    "# Format the plot\n",
    "plt.xlabel('Month')\n",
    "plt.ylabel('Sum of Passengers (millions)')\n",
    "plt.title('Monthly Sum of Passengers')\n",
    "plt.xticks(rotation=45)\n",
    "plt.grid(True)\n",
    "plt.tight_layout()\n",
    "\n",
    "# Display the plot\n",
    "plt.show();"
   ]
  },
  {
   "cell_type": "code",
   "execution_count": null,
   "metadata": {},
   "outputs": [],
   "source": []
  }
 ],
 "metadata": {
  "kernelspec": {
   "display_name": "Python 3",
   "language": "python",
   "name": "python3"
  },
  "language_info": {
   "codemirror_mode": {
    "name": "ipython",
    "version": 3
   },
   "file_extension": ".py",
   "mimetype": "text/x-python",
   "name": "python",
   "nbconvert_exporter": "python",
   "pygments_lexer": "ipython3",
   "version": "3.12.4"
  }
 },
 "nbformat": 4,
 "nbformat_minor": 2
}
